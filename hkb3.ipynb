{
 "cells": [
  {
   "cell_type": "markdown",
   "id": "e8e631ef-027e-4b28-ab0c-b15202d6c3f9",
   "metadata": {},
   "source": [
    "# Numerical Simulations of Haken–Kelso–Bunz Systems"
   ]
  },
  {
   "cell_type": "markdown",
   "id": "8b377868-7a76-4b08-90dd-185396290ff3",
   "metadata": {},
   "source": [
    "by Chris Beetle and Joseph McKinley.  Version 0.2 (6 June 2021)"
   ]
  },
  {
   "cell_type": "markdown",
   "id": "3693cb31-cc8e-4464-9046-8417060a92fb",
   "metadata": {},
   "source": [
    "## Mathematical Introduction"
   ]
  },
  {
   "cell_type": "markdown",
   "id": "e4053d97-8675-4bf9-809f-17e99a103d6c",
   "metadata": {},
   "source": [
    "### Dynamics"
   ]
  },
  {
   "cell_type": "markdown",
   "id": "c6a5787b-ae2e-4a7c-9bc4-2840cd718ce1",
   "metadata": {},
   "source": [
    "The Haken–Kelso–Bunz (HKB) model approximates the evolution of a system of non-linearly coupled, non-linear oscillators.  There are a couple levels at which the approximation can apply.  The more general level evolves both the amplitudes and the phases of the oscillators' motions.  However, the phases have recieved more attention historically, and one can specialize the equations further to evolve only those variables with the amplitudes held fixed."
   ]
  },
  {
   "cell_type": "markdown",
   "id": "e0278b52-df92-4c99-a029-089db879df39",
   "metadata": {},
   "source": [
    "In the more general framework, the instantaneous state of each oscillator can be encoded in a single, complex variable $z_i(t) := r_i(t)\\, \\mathrm{e}^{\\mathrm{i} \\theta_i(t)}$, which is connected to the trajectory $x_i(t)$ of that oscillator by \n",
    "\n",
    "\\begin{equation}\n",
    "    x_i(t) = \\operatorname{Re} \\bigl[ z_i(t)\\, \\mathrm{e}^{\\mathrm{i} \\Omega t} \\bigr] \n",
    "    \\qquad\\text{and}\\qquad \n",
    "    \\dot x_i(t) = - \\Omega \\operatorname{Im} \\bigl[ z_i(t)\\, \\mathrm{e}^{\\mathrm{i} \\Omega t} \\bigr].\n",
    "\\end{equation}\n",
    "\n",
    "The parameter $\\Omega$ is arbitrary at this point, and will be chosen later to simplify the collective dynamics of the oscillators.  Note, in particular, that any oscillator moving harmonically with frequency $\\Omega$ will have $z_i(t) = \\text{const.}$"
   ]
  },
  {
   "cell_type": "markdown",
   "id": "7e41e530-429e-4838-8354-691d59c5b1d0",
   "metadata": {
    "tags": []
   },
   "source": [
    "The evolution of the complex variables $z_i(t)$ in the HKB model derives from the equations of motion \n",
    "\n",
    "\\begin{equation}\n",
    "    \\ddot x_i - \\bigl( \\alpha_i - \\beta_i\\, \\dot x_i^2 - \\gamma_i\\, \\dot x_i^2 \\bigr)\\, \\dot x_i + \\omega_i^2\\, x_i  \n",
    "        = - \\sum_{j \\ne i} \\bigl( a_{ij} - b_{ij}\\, (\\dot x_i - \\dot x_j)^2 - c_{ij}\\, (x_i - x_j)^2 \\bigr) \\bigl( \\dot x_i - \\dot x_j \\bigr). \n",
    "\\end{equation}\n",
    "\n",
    "The left side of this equation describes the *autonomous* dynamics of a (hybrid, Rayleigh–van der Pol) non-linear oscillator with coordinate $x_i(t)$.  Note that, in the absence of the coupling terms on the right, the constant term in the damping factor has the \"wrong\" sign if $\\alpha_i > 0$.  That, is, it describes an inherent, continual *excitation* of the oscillator.  The other two terms in the damping factor have the opposite sign, however, and will properly damp the oscillator's motion once its amplitude is large enough.  The net result is that the autonomous dynamics of a single oscillator will converge on a non-trivial, stable motion (unlike the damped linear oscillator, for example, which evolves toward a state of rest).  The coupling terms on the right perturb thqt stable, autonomous evolution of each oscillator, however, depending on the configuration of the whole ensemble.  Note that, in contrast to the autonomous terms, the constant term in the coupling factor has a damping effect if $a_{ij} > 0$, while the non-linear terms are excitatory if $b_{ij} > 0$ and $c_{ij} > 0$."
   ]
  },
  {
   "cell_type": "markdown",
   "id": "ce3fc541-cfad-4446-996f-7fd4c5a48d85",
   "metadata": {},
   "source": [
    "Substituting for $x_i(t)$ and its derivatives in the oscillator equations of motion in terms of the complex variables $z_i(t)$ defined above yields a complicated evolution equation with explicit factors of $\\mathrm{e}^{\\mathrm{i} \\Omega t}$ in its coefficients.  However, the goal of the HKB model is to describe collective states of motion of the oscillators wherein each moves nearly harmonically with frequency $\\Omega$.  For such motions, it makes sense to approximate the evolution equations by their average over a single period of that presumed, harmonic oscillation.  Doing so leads to the approximate evolution equations \n",
    "\n",
    "\\begin{equation}\n",
    "    \\dot z_i \n",
    "        = \\biggl( \\frac{\\alpha_i}{2} - \\frac{3 \\beta_i \\Omega^2 + \\gamma_i}{8}\\, |z_i|^2 + \\mathrm{i}\\, \\frac{\\omega_i^2 - \\Omega^2}{2 \\Omega} \\biggr) z_i \n",
    "            - \\sum_{j \\ne i} \\biggl( \\frac{a_{ij}}{2} - \\frac{3 b_{ij} \\Omega^2 + c_{ij}}{8}\\, |z_i - z_j|^2 \\biggr) \\bigl( z_i - z_j \\bigr).\n",
    "\\end{equation}\n",
    "\n",
    "This is the more general form of the HKB equations that we will consider below."
   ]
  },
  {
   "cell_type": "markdown",
   "id": "09c718d6-6cf8-4fa3-b0a5-db9722021722",
   "metadata": {},
   "source": [
    "Writing $z_i(t) = r_i(t)\\, \\mathrm{e}^{\\mathrm{i} \\theta_i(t)}$, we can separate the the complex form of the HKB equations given above into separate evolutions equations for the amplitudes and phadses of the oscillators.  The phase evolution equations are \n",
    "\n",
    "\\begin{equation} \n",
    "    \\dot\\theta_i \n",
    "        = \\operatorname{Im} \\frac{\\dot z_i}{z_i} \n",
    "        = \\frac{\\omega_i^2 - \\Omega^2}{2 \\Omega} \n",
    "            - \\sum_{j \\ne i} A_{ij} \\sin (\\theta_i - \\theta_j) \n",
    "            - \\sum_{j \\ne i} B_{ij} \\sin 2 (\\theta_i - \\theta_j), \n",
    "\\end{equation}\n",
    "\n",
    "where the effective coupling parameters on the right are \n",
    "\n",
    "\\begin{equation}\n",
    "    A_{ij} := \\frac{a_{ij}}{2}\\, \\frac{r_j}{r_i} - B_{ij}\\, \\frac{r_i^2 + r_j^2}{r_i r_j} \n",
    "    \\qquad\\text{and}\\qquad \n",
    "    B_{ij} := \\frac{3 b_{ij} \\Omega^2 + c_{ij}}{8}\\, r_j^2.\n",
    "\\end{equation}\n",
    "\n",
    "Meanwhile, the amplitude evolution equations are \n",
    "\n",
    "\\begin{equation} \n",
    "    \\frac{\\dot r_i}{r_i} \n",
    "        = \\operatorname{Re} \\frac{\\dot z_i}{z_i} \n",
    "        = \\frac{\\tilde\\alpha_i}{2} - \\frac{3 \\tilde\\beta_i + \\tilde\\gamma_i}{8}\\, r_i^2 \n",
    "            + \\sum_{j \\ne i} 2 B_{ij} \n",
    "            + \\sum_{j \\ne i} \\frac{A_{ij}\\, r_j - 2 B_{ij}\\, r_i}{r_j} \\cos (\\theta_i - \\theta_j) \n",
    "            + \\sum_{j \\ne i} B_{ij} \\cos 2 (\\theta_i - \\theta_j), \n",
    "\\end{equation}\n",
    "\n",
    "where we have introduced the modified parameters \n",
    "\n",
    "\\begin{equation}\n",
    "    \\tilde\\alpha_i := \\alpha_i - \\sum_{j \\ne i} a_{ij}, \n",
    "    \\qquad \n",
    "    \\tilde\\beta_i := \\beta_i - \\sum_{j \\ne i} b_{ij} \n",
    "    \\qquad\\text{and}\\qquad \n",
    "    \\tilde\\gamma_i := \\gamma_i - \\sum_{j \\ne i} c_{ij}.\n",
    "\\end{equation}\n",
    "\n",
    "for the autonomous dynamics.  A further approximation to the HKB equations supposes that the amplitudes of the oscillators' motions evolve much more slowly than their (anomalous) phases.  In this further approximation, we may treat $A_{ij}$ and $B_{ij}$ as constants in the phase evolution equations given above, and drop the amplitude evolution equations altogether.  This reduced system of phase evolution equations is what is most commonly called the \"HKB model.\""
   ]
  },
  {
   "cell_type": "markdown",
   "id": "4cce4e1e-af61-4845-af5b-332d31e2cad2",
   "metadata": {},
   "source": [
    "### Order Parameters"
   ]
  },
  {
   "cell_type": "markdown",
   "id": "b4bbb607-2623-44ef-8a14-1e61ffe28da2",
   "metadata": {},
   "source": []
  },
  {
   "cell_type": "markdown",
   "id": "41c79dcc-bb9d-49ff-90a6-5aaa5ae5f692",
   "metadata": {},
   "source": [
    "## Code Initialization"
   ]
  },
  {
   "cell_type": "markdown",
   "id": "75faaa5e-2b23-4fdc-aa6d-4a6c6686e2a9",
   "metadata": {},
   "source": [
    "We will need the following libraries and routines preloaded."
   ]
  },
  {
   "cell_type": "code",
   "execution_count": 1,
   "id": "806ab4b5-99de-41a9-b498-c1f36d910b6c",
   "metadata": {},
   "outputs": [],
   "source": [
    "%matplotlib widget\n",
    "\n",
    "import ipywidgets as widgets\n",
    "import matplotlib.pyplot as plt\n",
    "import numpy as np\n",
    "import pandas as pd\n",
    "\n",
    "from numpy.lib import scimath as npc\n",
    "\n",
    "from scipy.integrate import solve_ivp"
   ]
  },
  {
   "cell_type": "code",
   "execution_count": 2,
   "id": "9cd08f4d-2555-497f-89ab-8cd8f7b8242b",
   "metadata": {},
   "outputs": [],
   "source": [
    "from collections import deque"
   ]
  },
  {
   "cell_type": "markdown",
   "id": "56711b17-7d27-4271-90d3-7ec23b2d797e",
   "metadata": {},
   "source": [
    "We will need an instance of the built-in random number generator to create initial data sets and diverse parameter values for systems of non-identical oscillators."
   ]
  },
  {
   "cell_type": "code",
   "execution_count": 3,
   "id": "086c6e7b-d946-4607-b984-f7f0d7bd0c9d",
   "metadata": {},
   "outputs": [],
   "source": [
    "myRNG = np.random.default_rng(seed = 123)"
   ]
  },
  {
   "cell_type": "markdown",
   "id": "c1f18a35-56ee-4dc2-b4bd-81213b8510db",
   "metadata": {},
   "source": [
    "The following routine computes the time derivative of the HKB phases from given values of the phases themselves.  Its form matches that assumed by the built-in integrator for initial-value problems.  It presumes that the frequencies $\\omega_i$ and $\\Omega$ have been pre-defined, as well as the reduced coupling constants $A_{ij}$ and $B_{ij}$."
   ]
  },
  {
   "cell_type": "code",
   "execution_count": 4,
   "id": "5ad839b2-fcc4-4d55-b167-9b4808bbff08",
   "metadata": {},
   "outputs": [],
   "source": [
    "def ringplotsegments(theta, period = 2 * np.pi) : \n",
    "    '''\n",
    "    Given an array of values theta[t] of a function valued in radians, \n",
    "    this routine returns a list of tuples (t0, t1, shift)[i] of integers \n",
    "    such that \n",
    "    \n",
    "        - 2 * pi ≤ theta[t] + 2 * pi * shift[i] < 2 * pi \n",
    "    \n",
    "    for all t0[i] < t < t1[i].  Moreover, theta[t0[i]] and theta[t1[i]] \n",
    "    do not lie in this range, except when either t0[i] or t1[i] is an \n",
    "    endpoint of the overall domain on which theta[t] is defined.  Thus, \n",
    "    plotting the restriction of theta[t] + 2 * pi * shift[i] to each \n",
    "    successive sub-interval t0[i] ≤ t ≤ t1[i] yields a sequence of \n",
    "    \"threads,\" each starting and ending just outside the range \n",
    "    [-2 * pi, 2 * pi] (on the vertical axis).  The \"threads\" plot each \n",
    "    value of theta[t] twice — once above the horizontal axis, and once \n",
    "    below — within this range.  The overall effect is intended to allow \n",
    "    visualization of functions taking values in the unit circle without \n",
    "    the visual confusion of apparent discontinuities created by simply \n",
    "    restricting the range to a single period such as [0, 2 * pi].\n",
    "    \n",
    "    Argument: \n",
    "    \n",
    "    theta = 1-d numpy.array of arbitrary length\n",
    "    \n",
    "    Parameters: \n",
    "    \n",
    "    period = float separating successive values of theta that label \n",
    "                the same point of the unit circle.  Default = 2 * pi.\n",
    "    \n",
    "    Returns: \n",
    "    \n",
    "    list [(t0, t1, shift)] of integer tuples such that plotting \n",
    "        theta[t0:t1] + period * shift yields a curve taking values \n",
    "        in the range [-period, period].\n",
    "    '''\n",
    "    n = (theta // period).astype(int)\n",
    "    T = np.flatnonzero(np.hstack([n, n[-1]]) - np.hstack([n[0], n]))  # array listing t where n(t) ≠ n(t - 1)\n",
    "    segments = []\n",
    "    for target in [0, -1] : \n",
    "        t0 = t1 = 0\n",
    "        shift = target - n[t0]\n",
    "        while t1 >= 0 : \n",
    "            Trem = T[T > t0]\n",
    "            wrap = np.flatnonzero((n[Trem] + shift + 1) // 2)\n",
    "            t1 = Trem[wrap[0]] if len(wrap) > 0 else -1\n",
    "            segments.append((t0 - 1 if t0 > 0 else 0, t1 if t1 >= 0 else None, shift))\n",
    "            shift += 2 if n[t1] < n[t0] else -2\n",
    "            t0 = t1\n",
    "    return segments"
   ]
  },
  {
   "cell_type": "code",
   "execution_count": 5,
   "id": "7a80e9ca-4443-4682-af66-6ed023cda927",
   "metadata": {},
   "outputs": [],
   "source": [
    "class HKBsystem() : \n",
    "    version = '0.3'\n",
    "    \n",
    "    def __init__(self, N = 2, Omega = 1.0, omega = False, A = False, B = False, t = 0.0, theta = False) : \n",
    "        # N       = Number of oscillators\n",
    "        # Omega   = Bulk frequency\n",
    "        # omega   = N-dim. array of frequencies\n",
    "        # A       = N x N array of couplings\n",
    "        # B       = N x N array of couplings\n",
    "        # t       = Current time\n",
    "        # theta   = Current configuration\n",
    "        # history = Evolution history (DataFrame)\n",
    "        # params  = Parameters for each evolution (list of dicts)\n",
    "        \n",
    "        self.N       = int(N)\n",
    "        self.Omega   = float(Omega)\n",
    "        self.omega   = np.full(N, Omega) if not omega else np.array(omega)\n",
    "        self.A       = np.full((N, N), Omega) if not A else np.array(A)\n",
    "        self.B       = np.full((N, N), Omega) if not B else np.array(B)\n",
    "        self.t       = float(t)\n",
    "        self.theta   = np.zeros(N) if not theta else np.array(theta)\n",
    "        self.history = pd.DataFrame(columns = pd.MultiIndex.from_tuples([('t', 0)] + [('theta', i) for i in range(N)]), dtype = float)\n",
    "        self.params  = []\n",
    "    \n",
    "    def restart(self, breakpoint = 0) : \n",
    "        self.N     = self.phist[breakpoint]['N']\n",
    "        self.Omega = self.phist[breakpoint]['Omega']\n",
    "        self.omega = self.phist[breakpoint]['omega']\n",
    "        self.A     = self.phist[breakpoint]['A']\n",
    "        self.B     = self.phist[breakpoint]['B']\n",
    "        self.t     = self.phist[breakpoint]['t']\n",
    "        self.theta = self.phist[breakpoint]['theta']\n",
    "    \n",
    "    @property\n",
    "    def t0(self) : \n",
    "        return self.history.iat[0, 0]\n",
    "    \n",
    "    def uniform_coupling(self, coupling) : \n",
    "        return np.array([[coupling if i != j else 0. for j in range(self.N)] for i in range(self.N)])\n",
    "    \n",
    "    def __str__(self) : \n",
    "        return '\\n'.join([f'{k} = {repr(v)}' for k, v in self.snapshot().items()])\n",
    "    \n",
    "    def snapshot(self, breakpoint = None) : \n",
    "        if breakpoint == None : \n",
    "            return dict(N = self.N, Omega = self.Omega, omega = self.omega, A = self.A, B = self.B, theta = self.theta, t = self.t)\n",
    "        else : \n",
    "            return self.history['state'][breakpoint]\n",
    "    \n",
    "    def velocity(self, t, theta) : \n",
    "        theta_dot = (self.omega**2 / self.Omega - self.Omega) / 2 \n",
    "        for i in range(len(theta)) : \n",
    "            theta_dot[i] -= self.A[i, :] @ np.sin(theta[i] - theta[:]) + self.B[i, :] @ np.sin(2 * (theta[i] - theta[:]))\n",
    "        return theta_dot\n",
    "    \n",
    "    def evolve(self, T = 50.0, dt = 0.05, **kwargs) : \n",
    "        if self.history.empty : self.history.at[0, 't'], self.history.at[0, 'theta'] = self.t, self.theta\n",
    "        self.params.append(self.snapshot())\n",
    "        steps = np.linspace(self.t, self.t + T, np.ceil(T / dt).astype(int) + 1)\n",
    "        sol = solve_ivp(self.velocity, [self.t, self.t + T], self.theta, t_eval = steps, max_step = dt)\n",
    "        self.history = self.history.append(\n",
    "            pd.concat([pd.Series(sol.t[1:]), pd.DataFrame(sol.y.T[1:])], keys = ['t', 'theta'], axis = 1), \n",
    "            ignore_index = True)\n",
    "        self.t, self.theta = sol.t[-1], sol.y[:, -1]"
   ]
  },
  {
   "cell_type": "code",
   "execution_count": 6,
   "id": "87e8c1f5-1c19-4b6a-bfda-9cebcd1f677d",
   "metadata": {},
   "outputs": [],
   "source": [
    "class HKBdash() : \n",
    "    version = '0.1'\n",
    "    \n",
    "    def __init__(self, system = None, name = None) : \n",
    "        self.outputWindow = widgets.Output()\n",
    "        with self.outputWindow : \n",
    "            self.fig = plt.figure(figsize = (12, 5))\n",
    "        \n",
    "        gs = self.fig.add_gridspec(nrows = 2, ncols = 2, \n",
    "                                   left = 0.08, right = 0.98, width_ratios = (9, 1), wspace = 0.05, \n",
    "                                   bottom = 0.08, top = 0.98, height_ratios = (1, 1), hspace = 0.12)\n",
    "        \n",
    "        self.ax = {}\n",
    "        self.lines = {'phase' : [], 'lace' : [], 'hist' : []}\n",
    "        \n",
    "        self.ax['phase'] = self.fig.add_subplot(gs[0, 0])\n",
    "        self.ax['phase'].set(ylabel = r'$\\theta$', ylim = [-2, 2])\n",
    "        self.ax['phase'].tick_params(axis = 'both', which = 'both', \n",
    "                                     left = False, right = False, bottom = False, top = False, \n",
    "                                     labelleft = True, labelright = False, labelbottom = False, labeltop = False)\n",
    "        self.ax['phase'].set_yticks([-2, -1, 0, 1, 2])\n",
    "        self.ax['phase'].set_yticklabels([r'$-2\\pi$', r'$-\\pi$', r'$0$', r'$\\pi$', r'$2\\pi$'])\n",
    "        self.ax['phase'].grid(linewidth = 0.5, color = 'k', alpha = 0.3)\n",
    "        \n",
    "        self.ax['lace'] = self.fig.add_subplot(gs[1, 0], sharex = self.ax['phase'])\n",
    "        self.ax['lace'].set(xlabel = r'$t$', ylabel = r'$\\Delta\\theta$', ylim = [-2, 2])\n",
    "        self.ax['lace'].tick_params(axis = 'both', which = 'both', \n",
    "                                    left = False, right = False, bottom = False, top = False, \n",
    "                                    labelleft = True, labelright = False, labelbottom = True, labeltop = False)\n",
    "        self.ax['lace'].set_yticks([-2, -1, 0, 1, 2])\n",
    "        self.ax['lace'].set_yticklabels([r'$-2\\pi$', r'$-\\pi$', r'$0$', r'$\\pi$', r'$2\\pi$'])\n",
    "        self.ax['lace'].grid(linewidth = 0.5, color = 'k', alpha = 0.3)\n",
    "        \n",
    "        self.ax['hist'] = self.fig.add_subplot(gs[1, 1], sharey = self.ax['lace'])\n",
    "        self.ax['hist'].set(xlabel = r'$\\% t$', xlim = [0., 1.], ylim = [-2., 2.])\n",
    "        self.ax['hist'].tick_params(axis = 'both', which = 'both', \n",
    "                                    left = False, right = False, bottom = False, top = False, \n",
    "                                    labelleft = False, labelright = False, labelbottom = True, labeltop = False)\n",
    "        self.ax['hist'].grid(linewidth = 0.5, color = 'k', alpha = 0.3)\n",
    "        \n",
    "        self.systemSelect = widgets.Dropdown(description = 'System:', disabled = True)\n",
    "        self.systemSelect.observe(self.systemUpdate, names = 'value')\n",
    "        self.systemSelect.disabled = False\n",
    "        \n",
    "        self.domainSlider = widgets.FloatRangeSlider(description = 'Domain:', disabled = True, \n",
    "                                                     step = 0.1, readout_format = '.1f', \n",
    "                                                     continuous_update = False,\n",
    "                                                     layout = widgets.Layout(width = '30%'))\n",
    "        self.domainSlider.observe(self.domainUpdate, names = 'value')\n",
    "        self.domainSlider.disabled = False\n",
    "        \n",
    "        self.widgetPanel = widgets.HBox([self.domainSlider, self.systemSelect], \n",
    "                                        layout = widgets.Layout(justify_content = 'space-around', width = '80%'))\n",
    "        self.outputPanel = widgets.VBox([self.outputWindow, self.widgetPanel])\n",
    "        display(self.outputPanel)\n",
    "        \n",
    "        if system != None : self(system, name)\n",
    "    \n",
    "    def __call__(self, sys, name = None) : \n",
    "        if not any(s == sys for _, s in self.systemSelect.options) : \n",
    "            n = 'System{:02d}'.format(len(self.systemSelect.options)) if name == None else name.capitalize()\n",
    "            self.systemSelect.options, self.systemSelect.value = (*self.systemSelect.options, (n, sys)), sys\n",
    "        else : \n",
    "            self.systemSelect.value = sys\n",
    "        self._redraw_plots(sys)\n",
    "    \n",
    "    @staticmethod\n",
    "    def _get_colors(omega) : \n",
    "        if (omega == omega[0]).all() : \n",
    "            reds = np.full_like(omega, 0.5)\n",
    "            rgb1 = np.array([[0.5, 0., 0.5, 1.]] * len(omega))\n",
    "            rgb2 = np.array([[0.5, 0., 0.5, 1.]] * (len(omega) * (len(omega) - 1) // 2))\n",
    "        else : \n",
    "            reds = (omega - omega.min()) / (omega.max() - omega.min())\n",
    "            rgb1 = np.array([[r, 0., 1. - r, 1.] for r in reds])\n",
    "            rgsl = [(max(ri, rj), (ri - rj)**2) for j, rj in enumerate(reds) for i, ri in enumerate(reds) if i < j]\n",
    "            rgb2 = np.array([[(1. - g) * r, g, (1. - g) * (1. - r), 1.] for r, g in rgsl])\n",
    "        colors = [reds, rgb1, rgb2]\n",
    "        return colors\n",
    "    \n",
    "    @staticmethod\n",
    "    def _get_dtheta(history) : \n",
    "        qs = history['theta'].T.to_numpy()\n",
    "        dtheta = np.array([(qj - qi) for j, qj in enumerate(qs) for i, qi in enumerate(qs) if i < j])\n",
    "        return dtheta\n",
    "    \n",
    "    def _redraw_plots(self, sys) : \n",
    "        self.colors = HKBdash._get_colors(sys.omega)\n",
    "        self.dtheta = HKBdash._get_dtheta(sys.history)\n",
    "        \n",
    "        self._draw_phase_plot(sys)\n",
    "        self._draw_lace_plot(sys)\n",
    "        self._draw_lace_hist(sys)\n",
    "        \n",
    "        self.domainSlider.min = sys.t0\n",
    "        self.domainSlider.max = sys.t\n",
    "        self.domainSlider.value = (sys.t0, sys.t)\n",
    "    \n",
    "    def _draw_phase_plot(self, sys) : \n",
    "        lines, ax = self.lines['phase'], self.ax['phase']\n",
    "        t = sys.history['t', 0].to_numpy()\n",
    "        for line in lines : line.remove()\n",
    "        lines.clear()\n",
    "        for theta, color in zip(sys.history['theta'].T.to_numpy(), self.colors[1]) : \n",
    "            for n0, n1, shift in ringplotsegments(theta) : \n",
    "                lines += ax.plot(t[n0:n1], theta[n0:n1] / np.pi + 2 * shift, color = color, linewidth = 1.0)\n",
    "    \n",
    "    def _draw_lace_plot(self, sys) : \n",
    "        lines, ax = self.lines['lace'], self.ax['lace']\n",
    "        t = sys.history['t', 0].to_numpy()\n",
    "        for line in lines : line.remove()\n",
    "        lines.clear()\n",
    "        for dtheta, color in zip(self.dtheta, self.colors[2]) : \n",
    "            for n0, n1, shift in ringplotsegments(dtheta) : \n",
    "                lines += ax.plot(t[n0:n1], dtheta[n0:n1] / np.pi + 2 * shift, color = color, linewidth = 1.0)\n",
    "                lines += ax.plot(t[n0:n1], -(dtheta[n0:n1] / np.pi + 2 * shift), color = color, linewidth = 1.0)\n",
    "    \n",
    "    def _draw_lace_hist(self, sys) : \n",
    "        bins = 100\n",
    "        lines, ax = self.lines['hist'], self.ax['hist']\n",
    "        mask = sys.history['t', 0].between(*self.domainSlider.value, inclusive = True).to_numpy()\n",
    "        for line in lines : line.remove()\n",
    "        lines.clear()\n",
    "        for dtheta, color in zip(self.dtheta[:, mask], self.colors[2]) : \n",
    "            hist = np.bincount(((dtheta / np.pi + 1 / bins) % 2 // (2 / bins)).astype(int), minlength = bins)\n",
    "            dens = np.hstack([hist, hist, hist[0]]) / len(dtheta)\n",
    "            lines += ax.plot(np.fmax(dens, np.flip(dens)), np.linspace(-2., 2., 2 * bins + 1), color = color, linewidth = 1.0)\n",
    "    \n",
    "    def domainUpdate(self, change) : \n",
    "        if np.subtract(*change.new) < 0. : \n",
    "            self.ax['lace'].set_xlim(change.new)\n",
    "            self.ax['phase'].set_xlim(change.new)\n",
    "            self._draw_lace_hist(self.systemSelect.value)\n",
    "            self.fig.canvas.draw()\n",
    "            self.fig.canvas.flush_events()\n",
    "    \n",
    "    def systemUpdate(self, change) : \n",
    "        self._redraw_plots(change.new)"
   ]
  },
  {
   "cell_type": "code",
   "execution_count": 7,
   "id": "ec15ee22-7b20-4c58-8dff-56a46327afab",
   "metadata": {},
   "outputs": [
    {
     "data": {
      "application/vnd.jupyter.widget-view+json": {
       "model_id": "b8e0ba17ed0b4afab5a65db0a5391d72",
       "version_major": 2,
       "version_minor": 0
      },
      "text/plain": [
       "VBox(children=(Output(), HBox(children=(FloatRangeSlider(value=(25.0, 75.0), continuous_update=False, descript…"
      ]
     },
     "metadata": {},
     "output_type": "display_data"
    }
   ],
   "source": [
    "dash = HKBdash()"
   ]
  },
  {
   "cell_type": "code",
   "execution_count": 8,
   "id": "6f5c1814-cd41-4dbc-a8ed-c8a5f1e7e133",
   "metadata": {
    "tags": []
   },
   "outputs": [],
   "source": [
    "alice = HKBsystem(N = 8)\n",
    "alice.omega = alice.Omega * np.ones(alice.N)\n",
    "alice.A = alice.uniform_coupling(0.105)\n",
    "alice.B = alice.A\n",
    "alice.theta = myRNG.uniform(-np.pi, np.pi, size = alice.N)"
   ]
  },
  {
   "cell_type": "code",
   "execution_count": 9,
   "id": "aeff3d30-cacf-44a6-a0bf-db2a2ab220cb",
   "metadata": {},
   "outputs": [],
   "source": [
    "alice.evolve(T = 50.0, dt = 0.05)"
   ]
  },
  {
   "cell_type": "code",
   "execution_count": 10,
   "id": "f7e18e12-b887-4019-b17d-a1635498cbbf",
   "metadata": {},
   "outputs": [],
   "source": [
    "dash(alice, 'alice')"
   ]
  },
  {
   "cell_type": "code",
   "execution_count": 11,
   "id": "4ae89053-eccb-4d81-9049-2d2741cec63c",
   "metadata": {},
   "outputs": [],
   "source": [
    "bob = HKBsystem(N = 8)\n",
    "bob.omega = np.array([0.25792063, 0.59881692, 0.75243083, 0.44693873, 1.68827699, 1.73670343, 1.70787205, 1.51274605])\n",
    "bob.A = bob.uniform_coupling(0.105)\n",
    "bob.B = bob.A\n",
    "bob.theta = np.array([ 0.77634034,  2.80301329, -0.40635822, -0.09021773,  0.12010399, -0.57433981,  0.4950881 , -2.69956634])"
   ]
  },
  {
   "cell_type": "code",
   "execution_count": 12,
   "id": "a9a6cbd7-2981-4c32-90da-4f20c4270190",
   "metadata": {},
   "outputs": [],
   "source": [
    "bob.evolve(T = 50.0, dt = 0.05)"
   ]
  },
  {
   "cell_type": "code",
   "execution_count": 13,
   "id": "1adbfc5c-08a4-4ffe-8bcb-c59d28eee50c",
   "metadata": {},
   "outputs": [],
   "source": [
    "dash(bob, 'bob')"
   ]
  },
  {
   "cell_type": "code",
   "execution_count": 14,
   "id": "2b8be872-3c36-472a-8a11-fff8229a27c2",
   "metadata": {},
   "outputs": [],
   "source": [
    "carol = HKBsystem(N = 8, Omega = 1.0)\n",
    "carol.omega = np.array([0.77243477, 0.41157648, 0.58503051, 0.52836832, 1.8187735, 2.10539075, 1.97624319, 1.66445571])\n",
    "carol.A = carol.uniform_coupling(0.105)\n",
    "carol.B = carol.A\n",
    "carol.theta = np.array([-0.89734441, 1.92251321, -1.97054171, 2.44597512, 1.08959046, 2.84865329, -1.82311023, -1.67920827])"
   ]
  },
  {
   "cell_type": "code",
   "execution_count": 15,
   "id": "bff3e5ae-a4a2-481c-ab98-263fe796af67",
   "metadata": {},
   "outputs": [],
   "source": [
    "carol.evolve(T = 50., dt = 0.05)"
   ]
  },
  {
   "cell_type": "code",
   "execution_count": 16,
   "id": "ba184ece-5b73-44ad-b465-3580fbccddce",
   "metadata": {},
   "outputs": [],
   "source": [
    "dash(carol, 'carol')"
   ]
  },
  {
   "cell_type": "code",
   "execution_count": 17,
   "id": "7b081cd3-39ba-486e-af1c-6e2055d6cca5",
   "metadata": {},
   "outputs": [],
   "source": [
    "dave = HKBsystem(N = 8)\n",
    "dave.omega = np.array([0.25792063, 0.59881692, 0.75243083, 0.44693873, 1.68827699, 1.73670343, 1.70787205, 1.51274605])\n",
    "dave.A = np.array([[0.1 if i > j else 0.01 if i < j else 0.0 for i in range(8)] for j in range(8)])\n",
    "dave.B = dave.A\n",
    "dave.theta = myRNG.uniform(-np.pi, np.pi, size = dave.N)"
   ]
  },
  {
   "cell_type": "code",
   "execution_count": 18,
   "id": "93a5a9f9-c732-4842-9460-f37a58f5d93a",
   "metadata": {},
   "outputs": [],
   "source": [
    "dave.evolve(T = 50., dt = 0.05)"
   ]
  },
  {
   "cell_type": "code",
   "execution_count": 19,
   "id": "71113433-fd69-492f-be59-170f3fb68b54",
   "metadata": {},
   "outputs": [],
   "source": [
    "dash(dave, 'dave')"
   ]
  },
  {
   "cell_type": "code",
   "execution_count": 20,
   "id": "89260b2b-8405-4353-b6e9-2b9ceeedde0b",
   "metadata": {},
   "outputs": [
    {
     "data": {
      "application/vnd.jupyter.widget-view+json": {
       "model_id": "d5848676a7bf45c7b0f21b5b02e94d4e",
       "version_major": 2,
       "version_minor": 0
      },
      "text/plain": [
       "Canvas(toolbar=Toolbar(toolitems=[('Home', 'Reset original view', 'home', 'home'), ('Back', 'Back to previous …"
      ]
     },
     "metadata": {},
     "output_type": "display_data"
    },
    {
     "data": {
      "text/plain": [
       "[<matplotlib.lines.Line2D at 0x19e5bd9a0>]"
      ]
     },
     "execution_count": 20,
     "metadata": {},
     "output_type": "execute_result"
    }
   ],
   "source": [
    "KurZ = np.cos(bob.history['theta']).mean(axis = 1) + 1j * np.sin(bob.history['theta']).mean(axis = 1)\n",
    "argZ = np.angle(KurZ) % (2 * np.pi)\n",
    "argZ += 2 * np.pi * np.cumsum([0] + [(np.pi - dz) // (2 * np.pi) for dz in np.diff(argZ)])\n",
    "modZ = np.abs(KurZ)\n",
    "fig = plt.figure()\n",
    "plt.plot(bob.history['t', 0], argZ)\n",
    "plt.plot(bob.history['t', 0], modZ)"
   ]
  },
  {
   "cell_type": "code",
   "execution_count": null,
   "id": "e3299a28-5a68-4165-a712-ab29f1c9d695",
   "metadata": {},
   "outputs": [],
   "source": []
  }
 ],
 "metadata": {
  "kernelspec": {
   "display_name": "Python 3",
   "language": "python",
   "name": "python3"
  },
  "language_info": {
   "codemirror_mode": {
    "name": "ipython",
    "version": 3
   },
   "file_extension": ".py",
   "mimetype": "text/x-python",
   "name": "python",
   "nbconvert_exporter": "python",
   "pygments_lexer": "ipython3",
   "version": "3.9.4"
  }
 },
 "nbformat": 4,
 "nbformat_minor": 5
}
